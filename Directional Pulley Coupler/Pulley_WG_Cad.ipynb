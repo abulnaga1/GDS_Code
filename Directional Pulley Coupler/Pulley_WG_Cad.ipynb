{
 "cells": [
  {
   "cell_type": "code",
   "execution_count": 70,
   "metadata": {},
   "outputs": [
    {
     "name": "stdout",
     "output_type": "stream",
     "text": [
      "Writing pulley_w400nm_gap25nm_07_08_2020.py\n"
     ]
    }
   ],
   "source": [
    "%%writefile pulley_w400nm_gap25nm_07_08_2020.py\n",
    "\n",
    "#Title:         pulley_wX_gapY_MM_DD_YYYY.py\n",
    "#Description:   CAD file for pulley waveguide simulations (import into lumerical fdtd)\n",
    "#Authors:       Alex Abulnaga\n",
    "#Date modified: 2020-08-03  \n",
    "#Notes:         All units in microns\n",
    "\n",
    "#Import requisite python packages\n",
    "import gdspy\n",
    "import numpy\n",
    "import math\n",
    "\n",
    "#Create the cells of the cad file\n",
    "main_cell = gdspy.Cell(\"pulley_coupler\")\n",
    "\n",
    "#Define the fixed variables of the structure\n",
    "ring_r = 25;     #The radius of the ring resonator\n",
    "ring_w = 0.5;    #The width of the ring resonator waveguide\n",
    "phc_w = 0.4;     #The width of the photonic crystal waveguide\n",
    "\n",
    "#Dynamic Variables\n",
    "Lc = [1, 2, 3, 3.2, 3.5, 4, 5]  \n",
    "gap = 0.025;                     #The desired gap between the ring resonator and the pulley waveguide in the coupling area\n",
    "bend_radius = 25;               #The radius of the bend after the coupling region\n",
    "\n",
    "#Define the calculated variables\n",
    "ring_ir = ring_r - ring_w/2;    #The inner radius of the ring resonator\n",
    "ring_or = ring_r + ring_w/2;    #The outer radius of the ring resonator\n",
    "pulley_r = ring_or + gap + phc_w/2;        #The radius of the pulley waveguide in the coupling region\n",
    "pulley_ir = pulley_r - phc_w/2; #The inner radius of the pulley waveguide\n",
    "pulley_or = pulley_r + phc_w/2; #The outer radius of the pulley waveguide\n",
    "\n",
    "#Create the structures\n",
    "########################################\n",
    "\n",
    "#Create the ring resonator for reference\n",
    "ring = gdspy.Round(\n",
    "            (0, 0),                            #(x,y) origin of the curve\n",
    "            ring_or,                           #ring outer radius\n",
    "            inner_radius=ring_ir,              #ring inner radius\n",
    "            initial_angle=0,                   #Initial angle of the ring\n",
    "            final_angle=2*numpy.pi,            #Final angle. We define a 360 degree ring \n",
    "            tolerance=0.001,                   #Tolerance of the cell\n",
    "            layer = 0)                         #Place the ring on a different layer so we can easily change thickness in lumerical\n",
    "main_cell.add(ring)                            #Add the ring to the cell\n",
    "\n",
    "#Create a set of pulleys with different coupling length so that we can import them all into lumerical in a single file to do a sweep\n",
    "for i in range(len(Lc)):             #we will sweep over pulley lengths from 1 to 10um\n",
    "    arc_angle = Lc[i]/pulley_r       #Calculate the arc angle which gives an arc length Lc, units of radians\n",
    "    \n",
    "    #Create the pulley waveguide. We will just create half the waveguide, then mirror it about the vertical axis\n",
    "    pulley = gdspy.Path(phc_w,(0,pulley_r)); #Define the width of the path and the starting co-ordinates\n",
    "\n",
    "    pulley.arc(pulley_r,                 #Start by defining the coupling portion which is an arc defined by arc_angle and the pulley radius\n",
    "          numpy.pi/2,                    #initial angle\n",
    "          numpy.pi/2 + arc_angle/2,      #final angle\n",
    "          layer=i+1,                     #Define the layer to match the coupling length\n",
    "          tolerance = 0.001)             #Curve tolerance \n",
    "\n",
    "    pulley.turn(bend_radius,             #We add a turn with radius 15um\n",
    "            -arc_angle/2,                #We turn the pulley back to parallel with the horizontal axis\n",
    "            layer = i+1,                 #Layer number matches coupling length. This will help us in lumerical\n",
    "            tolerance = 0.001)           #Bend tolerance\n",
    "\n",
    "    pulley.segment(ring_r + pulley.x,        #We add a horizontal section up to a total length of ring_r, so that the horizontal portion extends arbitrarily long\n",
    "               '-x',                         #We will later only consider a subsection in the FDTD simulation\n",
    "               layer = i+1)                  #Layer number\n",
    "\n",
    "    pulley2 = gdspy.copy(pulley)             #Make a copy of the path\n",
    "    pulley2.mirror((0,0),(0,1))              #And mirror it so we complete the pulley\n",
    "\n",
    "    main_cell.add(pulley)                    #Add the pulley coupler to the pulley cell\n",
    "    main_cell.add(pulley2)                   #Add the mirror as well \n",
    "\n",
    "gdspy.write_gds('pulley_w400nm_25nmGap_LcSweep_2020_07_08.gds') #Write the GDS file\n"
   ]
  }
 ],
 "metadata": {
  "kernelspec": {
   "display_name": "Python 3",
   "language": "python",
   "name": "python3"
  },
  "language_info": {
   "codemirror_mode": {
    "name": "ipython",
    "version": 3
   },
   "file_extension": ".py",
   "mimetype": "text/x-python",
   "name": "python",
   "nbconvert_exporter": "python",
   "pygments_lexer": "ipython3",
   "version": "3.8.0"
  }
 },
 "nbformat": 4,
 "nbformat_minor": 4
}
